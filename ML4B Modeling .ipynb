{
 "cells": [
  {
   "cell_type": "markdown",
   "metadata": {},
   "source": [
    "# Project for ML4B - Modelling with scikit-learn"
   ]
  },
  {
   "cell_type": "markdown",
   "metadata": {},
   "source": [
    "### Tweet Class for easier usage"
   ]
  },
  {
   "cell_type": "code",
   "execution_count": null,
   "metadata": {},
   "outputs": [],
   "source": [
    "class Tweet:\n",
    "    def __init__(self, text, partei):\n",
    "        self.text = text\n",
    "        self.partei = partei"
   ]
  },
  {
   "cell_type": "markdown",
   "metadata": {},
   "source": [
    "### Load data "
   ]
  },
  {
   "cell_type": "markdown",
   "metadata": {},
   "source": [
    "Load in your data."
   ]
  },
  {
   "cell_type": "code",
   "execution_count": null,
   "metadata": {},
   "outputs": [],
   "source": [
    "import json\n",
    "\n",
    "file_name = './output/TwitterData.json'\n",
    "tweets = []\n",
    "\n",
    "with open(file_name ,encoding=\"utf8\") as f:\n",
    "    tweet = json.load(f)\n",
    "    for partei in tweet['Tweets']:\n",
    "        for text in tweet['Tweets'][partei]:\n",
    "            tweets.append(Tweet(text, partei))\n",
    "\n",
    "len(tweets)"
   ]
  },
  {
   "cell_type": "markdown",
   "metadata": {},
   "source": [
    "# Prep Data"
   ]
  },
  {
   "cell_type": "markdown",
   "metadata": {},
   "source": [
    "### Splitting training and testing data"
   ]
  },
  {
   "cell_type": "code",
   "execution_count": null,
   "metadata": {},
   "outputs": [],
   "source": [
    "from sklearn.model_selection import train_test_split\n",
    "training, test = train_test_split(tweets, test_size = 0.2, random_state= 40)"
   ]
  },
  {
   "cell_type": "code",
   "execution_count": null,
   "metadata": {},
   "outputs": [],
   "source": [
    "train_text = [x.text for x in training]\n",
    "train_partei = [x.partei for x in training]\n",
    "\n",
    "test_text = [x.text for x in test]\n",
    "test_partei = [x.partei for x in test]\n"
   ]
  },
  {
   "cell_type": "markdown",
   "metadata": {},
   "source": [
    "### Bags of Words Model"
   ]
  },
  {
   "cell_type": "code",
   "execution_count": null,
   "metadata": {},
   "outputs": [],
   "source": [
    "from sklearn.feature_extraction.text import CountVectorizer, TfidfVectorizer\n",
    "\n",
    "vectorizer = TfidfVectorizer()\n",
    "train_text_vectors = vectorizer.fit_transform(train_text)\n",
    "test_text_vectors = vectorizer.transform(test_text)\n"
   ]
  },
  {
   "cell_type": "markdown",
   "metadata": {},
   "source": [
    "# Classification"
   ]
  },
  {
   "cell_type": "markdown",
   "metadata": {},
   "source": [
    "### Decision Tree"
   ]
  },
  {
   "cell_type": "code",
   "execution_count": null,
   "metadata": {},
   "outputs": [],
   "source": [
    "import pickle\n",
    "\n",
    "from sklearn.tree import DecisionTreeClassifier\n",
    "\n",
    "clf_dec = DecisionTreeClassifier()\n",
    "clf_dec.fit(train_text_vectors, train_partei)\n",
    "\n",
    "clf_dec.predict(test_text_vectors[0])\n",
    "\n",
    "filename = 'decisionTree.sav'\n",
    "pickle.dump(clf_dec, open(filename,'wb'))"
   ]
  },
  {
   "cell_type": "markdown",
   "metadata": {},
   "source": [
    "### Logistic Regression"
   ]
  },
  {
   "cell_type": "code",
   "execution_count": null,
   "metadata": {},
   "outputs": [],
   "source": [
    "import pickle\n",
    "from sklearn.linear_model import LogisticRegression\n",
    "\n",
    "clf_log = LogisticRegression(max_iter = 100000)\n",
    "clf_log.fit(train_text_vectors, train_partei)\n",
    "\n",
    "clf_log.predict(test_text_vectors[0])\n",
    "\n",
    "filename = 'logisticReg.sav'\n",
    "pickle.dump(clf_log, open(filename,'wb'))"
   ]
  },
  {
   "cell_type": "markdown",
   "metadata": {},
   "source": [
    "# Evaluation"
   ]
  },
  {
   "cell_type": "markdown",
   "metadata": {},
   "source": [
    "### Mean Accuracy"
   ]
  },
  {
   "cell_type": "code",
   "execution_count": null,
   "metadata": {
    "scrolled": true
   },
   "outputs": [],
   "source": [
    "print(clf_dec.score(test_text_vectors, test_partei))\n",
    "print(clf_log.score(test_text_vectors, test_partei)) "
   ]
  },
  {
   "cell_type": "markdown",
   "metadata": {},
   "source": [
    "### F1 Score"
   ]
  },
  {
   "cell_type": "code",
   "execution_count": null,
   "metadata": {},
   "outputs": [],
   "source": [
    "from sklearn.metrics import f1_score\n",
    "\n",
    "f1_score(test_partei, clf_dec.predict(test_text_vectors), average=None,\n",
    "         labels=['AfD', 'CSU', 'Die Linke', 'CDU', 'SPD', 'FDP', 'Bündnis 90/Die Grünen'])\n",
    "\n",
    "f1_score(test_partei, clf_log.predict(test_text_vectors), average=None,\n",
    "         labels=['AfD', 'CSU', 'Die Linke', 'CDU', 'SPD', 'FDP', 'Bündnis 90/Die Grünen'])"
   ]
  },
  {
   "cell_type": "markdown",
   "metadata": {},
   "source": [
    "### Confusion Matrix"
   ]
  },
  {
   "cell_type": "code",
   "execution_count": null,
   "metadata": {},
   "outputs": [],
   "source": [
    "from sklearn.metrics import plot_confusion_matrix\n",
    "from matplotlib import pyplot as plt\n",
    "\n",
    "fig, ax = plt.subplots(figsize=(12, 12))\n",
    "plot_confusion_matrix(clf_log, test_text_vectors, test_partei,normalize = 'true', ax=ax)\n"
   ]
  },
  {
   "cell_type": "code",
   "execution_count": null,
   "metadata": {},
   "outputs": [],
   "source": [
    "from sklearn.metrics import plot_confusion_matrix\n",
    "from matplotlib import pyplot as plt\n",
    "\n",
    "fig, ax = plt.subplots(figsize=(12, 12))\n",
    "plot_confusion_matrix(clf_dec, test_text_vectors, test_partei,normalize = 'true', ax=ax)\n"
   ]
  },
  {
   "cell_type": "markdown",
   "metadata": {},
   "source": [
    "### GridSearch"
   ]
  },
  {
   "cell_type": "code",
   "execution_count": null,
   "metadata": {},
   "outputs": [],
   "source": [
    "from sklearn.model_selection import GridSearchCV\n",
    "import pickle\n",
    "parameters_log = { 'C': (1, 50), 'solver': ('sag', 'saga'), 'max_iter':(10000,100000) }\n",
    "clfTuned = GridSearchCV(clf_log, parameters_log, cv=5)\n",
    "clfTuned.fit(train_text_vectors, train_partei)\n",
    "filename = 'clftuned.sav'\n",
    "pickle.dump(clf, open(filename,'wb'))"
   ]
  },
  {
   "cell_type": "code",
   "execution_count": null,
   "metadata": {},
   "outputs": [],
   "source": [
    "print(clfTuned.score(test_text_vectors, test_partei))"
   ]
  }
 ],
 "metadata": {
  "kernelspec": {
   "display_name": "Python 3",
   "language": "python",
   "name": "python3"
  },
  "language_info": {
   "codemirror_mode": {
    "name": "ipython",
    "version": 3
   },
   "file_extension": ".py",
   "mimetype": "text/x-python",
   "name": "python",
   "nbconvert_exporter": "python",
   "pygments_lexer": "ipython3",
   "version": "3.8.5"
  }
 },
 "nbformat": 4,
 "nbformat_minor": 4
}
